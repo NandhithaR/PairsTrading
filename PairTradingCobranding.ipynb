{
 "cells": [
  {
   "cell_type": "code",
   "execution_count": 61,
   "metadata": {},
   "outputs": [],
   "source": [
    "import yfinance as yf\n",
    "import pandas as pd\n",
    "import numpy as np\n",
    "from statsmodels.tsa.stattools import coint, adfuller\n",
    "import scipy"
   ]
  },
  {
   "cell_type": "code",
   "execution_count": 62,
   "metadata": {},
   "outputs": [],
   "source": [
    "#read cobranded pairs\n",
    "pairsDF = pd.read_csv(\"Cobranding.csv\")"
   ]
  },
  {
   "cell_type": "code",
   "execution_count": 63,
   "metadata": {},
   "outputs": [
    {
     "data": {
      "text/html": [
       "<div>\n",
       "<style scoped>\n",
       "    .dataframe tbody tr th:only-of-type {\n",
       "        vertical-align: middle;\n",
       "    }\n",
       "\n",
       "    .dataframe tbody tr th {\n",
       "        vertical-align: top;\n",
       "    }\n",
       "\n",
       "    .dataframe thead th {\n",
       "        text-align: right;\n",
       "    }\n",
       "</style>\n",
       "<table border=\"1\" class=\"dataframe\">\n",
       "  <thead>\n",
       "    <tr style=\"text-align: right;\">\n",
       "      <th></th>\n",
       "      <th>Company1</th>\n",
       "      <th>Company2</th>\n",
       "      <th>Relationship</th>\n",
       "    </tr>\n",
       "  </thead>\n",
       "  <tbody>\n",
       "    <tr>\n",
       "      <th>0</th>\n",
       "      <td>AAPL</td>\n",
       "      <td>INTC</td>\n",
       "      <td>Partnership</td>\n",
       "    </tr>\n",
       "    <tr>\n",
       "      <th>1</th>\n",
       "      <td>SHW</td>\n",
       "      <td>WSM</td>\n",
       "      <td>Branding</td>\n",
       "    </tr>\n",
       "    <tr>\n",
       "      <th>2</th>\n",
       "      <td>NVDA</td>\n",
       "      <td>TSM</td>\n",
       "      <td>Partnership</td>\n",
       "    </tr>\n",
       "    <tr>\n",
       "      <th>3</th>\n",
       "      <td>CSPR</td>\n",
       "      <td>WSM</td>\n",
       "      <td>Branding</td>\n",
       "    </tr>\n",
       "    <tr>\n",
       "      <th>4</th>\n",
       "      <td>BMWYY</td>\n",
       "      <td>LVMUY</td>\n",
       "      <td>Branding</td>\n",
       "    </tr>\n",
       "  </tbody>\n",
       "</table>\n",
       "</div>"
      ],
      "text/plain": [
       "  Company1 Company2 Relationship\n",
       "0     AAPL     INTC  Partnership\n",
       "1      SHW      WSM     Branding\n",
       "2     NVDA      TSM  Partnership\n",
       "3     CSPR      WSM     Branding\n",
       "4    BMWYY    LVMUY     Branding"
      ]
     },
     "execution_count": 63,
     "metadata": {},
     "output_type": "execute_result"
    }
   ],
   "source": [
    "pairsDF.head()"
   ]
  },
  {
   "cell_type": "code",
   "execution_count": 64,
   "metadata": {},
   "outputs": [],
   "source": [
    "pairs = []\n",
    "for index, row in pairsDF.iterrows():\n",
    "    stock1 = yf.Ticker(row['Company1'])\n",
    "    stock2 = yf.Ticker(row['Company2'])\n",
    "    \n",
    "    pair1 = stock1.history(period = '2y')\n",
    "    pair2 = stock2.history(period = '2y')\n",
    "    \n",
    "    if(pair1.shape != pair2.shape):\n",
    "        continue\n",
    "        \n",
    "    ##Test for correlation\n",
    "    X = pair1['Close'].values.astype(float)\n",
    "    Y = pair2['Close'].values.astype(float)\n",
    "    score, pvalue, _ = coint(X, Y)\n",
    "\n",
    "    if (scipy.stats.pearsonr(X, Y)[0] > 0.9) or pvalue < 0.05:\n",
    "        pairs.append((stock1, stock2))"
   ]
  },
  {
   "cell_type": "code",
   "execution_count": 65,
   "metadata": {},
   "outputs": [
    {
     "data": {
      "text/plain": [
       "[(yfinance.Ticker object <NVDA>, yfinance.Ticker object <TSM>),\n",
       " (yfinance.Ticker object <NKE>, yfinance.Ticker object <AAPL>),\n",
       " (yfinance.Ticker object <NFLX>, yfinance.Ticker object <AMZN>),\n",
       " (yfinance.Ticker object <MSFT>, yfinance.Ticker object <AMZN>),\n",
       " (yfinance.Ticker object <FB>, yfinance.Ticker object <AMZN>),\n",
       " (yfinance.Ticker object <FB>, yfinance.Ticker object <AMZN>),\n",
       " (yfinance.Ticker object <FB>, yfinance.Ticker object <MSFT>),\n",
       " (yfinance.Ticker object <QCOM>, yfinance.Ticker object <TSM>),\n",
       " (yfinance.Ticker object <QCOM>, yfinance.Ticker object <AAPL>),\n",
       " (yfinance.Ticker object <REI>, yfinance.Ticker object <SPLK>),\n",
       " (yfinance.Ticker object <AMZN>, yfinance.Ticker object <CRM>)]"
      ]
     },
     "execution_count": 65,
     "metadata": {},
     "output_type": "execute_result"
    }
   ],
   "source": [
    "pairs"
   ]
  },
  {
   "cell_type": "code",
   "execution_count": null,
   "metadata": {},
   "outputs": [],
   "source": []
  },
  {
   "cell_type": "code",
   "execution_count": 15,
   "metadata": {},
   "outputs": [],
   "source": []
  },
  {
   "cell_type": "code",
   "execution_count": null,
   "metadata": {},
   "outputs": [],
   "source": []
  }
 ],
 "metadata": {
  "kernelspec": {
   "display_name": "Python 3",
   "language": "python",
   "name": "python3"
  },
  "language_info": {
   "codemirror_mode": {
    "name": "ipython",
    "version": 3
   },
   "file_extension": ".py",
   "mimetype": "text/x-python",
   "name": "python",
   "nbconvert_exporter": "python",
   "pygments_lexer": "ipython3",
   "version": "3.7.4"
  }
 },
 "nbformat": 4,
 "nbformat_minor": 2
}
